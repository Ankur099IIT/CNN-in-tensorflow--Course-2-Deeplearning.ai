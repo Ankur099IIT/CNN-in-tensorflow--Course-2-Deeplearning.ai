{
  "nbformat": 4,
  "nbformat_minor": 0,
  "metadata": {
    "colab": {
      "name": "Transfer_learning_cats and dogs-dataset.ipynb",
      "provenance": [],
      "collapsed_sections": [],
      "authorship_tag": "ABX9TyNf6yBh29OkM0JgLqw3KPWs",
      "include_colab_link": true
    },
    "kernelspec": {
      "name": "python3",
      "display_name": "Python 3"
    },
    "language_info": {
      "name": "python"
    },
    "accelerator": "GPU"
  },
  "cells": [
    {
      "cell_type": "markdown",
      "metadata": {
        "id": "view-in-github",
        "colab_type": "text"
      },
      "source": [
        "<a href=\"https://colab.research.google.com/github/Ankur099IIT/CNN-in-tensorflow--Course-2-Deeplearning.ai/blob/main/Transfer_learning_cats_and_dogs_dataset.ipynb\" target=\"_parent\"><img src=\"https://colab.research.google.com/assets/colab-badge.svg\" alt=\"Open In Colab\"/></a>"
      ]
    },
    {
      "cell_type": "code",
      "execution_count": 1,
      "metadata": {
        "colab": {
          "base_uri": "https://localhost:8080/"
        },
        "id": "Aw3JnLThD8c4",
        "outputId": "61c89ff2-f479-4653-a2a0-2d9a5af49492"
      },
      "outputs": [
        {
          "output_type": "stream",
          "name": "stdout",
          "text": [
            "--2022-05-03 08:36:47--  https://storage.googleapis.com/mledu-datasets/inception_v3_weights_tf_dim_ordering_tf_kernels_notop.h5\n",
            "Resolving storage.googleapis.com (storage.googleapis.com)... 74.125.202.128, 142.250.152.128, 173.194.193.128, ...\n",
            "Connecting to storage.googleapis.com (storage.googleapis.com)|74.125.202.128|:443... connected.\n",
            "HTTP request sent, awaiting response... 200 OK\n",
            "Length: 87910968 (84M) [application/x-hdf]\n",
            "Saving to: ‘/tmp/inception_v3_weights_tf_dim_ordering_tf_kernels_notop.h5’\n",
            "\n",
            "/tmp/inception_v3_w 100%[===================>]  83.84M   172MB/s    in 0.5s    \n",
            "\n",
            "2022-05-03 08:36:48 (172 MB/s) - ‘/tmp/inception_v3_weights_tf_dim_ordering_tf_kernels_notop.h5’ saved [87910968/87910968]\n",
            "\n"
          ]
        }
      ],
      "source": [
        "!wget --no-check-certificate \\\n",
        "    https://storage.googleapis.com/mledu-datasets/inception_v3_weights_tf_dim_ordering_tf_kernels_notop.h5 \\\n",
        "    -O /tmp/inception_v3_weights_tf_dim_ordering_tf_kernels_notop.h5"
      ]
    },
    {
      "cell_type": "code",
      "source": [
        "from tensorflow.keras.applications.inception_v3 import InceptionV3\n",
        "from tensorflow.keras import layers\n",
        "\n",
        "local_weights_file = '/tmp/inception_v3_weights_tf_dim_ordering_tf_kernels_notop.h5'"
      ],
      "metadata": {
        "id": "3hlVKcRXEJNV"
      },
      "execution_count": 3,
      "outputs": []
    },
    {
      "cell_type": "code",
      "source": [
        "pre_trained_model = InceptionV3(input_shape = (150,150,3),\n",
        "                                include_top = False,\n",
        "                                weights = None)"
      ],
      "metadata": {
        "id": "mvfYiXkUGb9b"
      },
      "execution_count": 4,
      "outputs": []
    },
    {
      "cell_type": "code",
      "source": [
        "pre_trained_model.load_weights(local_weights_file)"
      ],
      "metadata": {
        "id": "n4Ns9nVKHDgJ"
      },
      "execution_count": 5,
      "outputs": []
    },
    {
      "cell_type": "code",
      "source": [
        "for layer in pre_trained_model.layers:\n",
        "  layer.trainable = False"
      ],
      "metadata": {
        "id": "ys26pTK-HNq_"
      },
      "execution_count": 6,
      "outputs": []
    },
    {
      "cell_type": "code",
      "source": [
        "pre_trained_model.summary()"
      ],
      "metadata": {
        "id": "wuiq-a8zHa3v"
      },
      "execution_count": null,
      "outputs": []
    },
    {
      "cell_type": "code",
      "source": [
        "last_layer = pre_trained_model.get_layer('mixed7')\n",
        "print('last layer output shape', last_layer.output_shape)\n",
        "last_output = last_layer.output"
      ],
      "metadata": {
        "colab": {
          "base_uri": "https://localhost:8080/"
        },
        "id": "OomlvwHTHjHb",
        "outputId": "6360d306-caf8-4b70-8dd9-8ee3d2c0b845"
      },
      "execution_count": 8,
      "outputs": [
        {
          "output_type": "stream",
          "name": "stdout",
          "text": [
            "last layer output shape (None, 7, 7, 768)\n"
          ]
        }
      ]
    },
    {
      "cell_type": "code",
      "source": [
        "from tensorflow.keras.optimizers import RMSprop\n",
        "from tensorflow.keras import Model\n",
        "import tensorflow as tf\n",
        "\n",
        "x = tf.keras.layers.Flatten()(last_output)\n",
        "\n",
        "x = tf.keras.layers.Dense(units = 1024, activation = 'relu')(x)\n",
        "\n",
        "x = tf.keras.layers.Dropout(0.2)(x)\n",
        "\n",
        "x = tf.keras.layers.Dense(1, activation = 'sigmoid')(x)\n",
        "\n",
        "model = Model(pre_trained_model.input, x)\n",
        "\n",
        "model.summary()\n",
        "\n"
      ],
      "metadata": {
        "id": "F_RFiNhNIlYb"
      },
      "execution_count": null,
      "outputs": []
    },
    {
      "cell_type": "code",
      "source": [
        "model.compile(loss = 'binary_crossentropy',\n",
        "              optimizer = RMSprop(learning_rate = 0.001),\n",
        "              metrics = ['accuracy'])"
      ],
      "metadata": {
        "id": "N89OElgvIqhs"
      },
      "execution_count": 14,
      "outputs": []
    },
    {
      "cell_type": "code",
      "source": [
        "!wget https://storage.googleapis.com/tensorflow-1-public/course2/cats_and_dogs_filtered.zip"
      ],
      "metadata": {
        "colab": {
          "base_uri": "https://localhost:8080/"
        },
        "id": "6v6OTORQL5NK",
        "outputId": "70e3cc08-b849-4385-a0a4-e4332363d114"
      },
      "execution_count": 15,
      "outputs": [
        {
          "output_type": "stream",
          "name": "stdout",
          "text": [
            "--2022-05-03 09:11:52--  https://storage.googleapis.com/tensorflow-1-public/course2/cats_and_dogs_filtered.zip\n",
            "Resolving storage.googleapis.com (storage.googleapis.com)... 142.250.152.128, 173.194.194.128, 173.194.196.128, ...\n",
            "Connecting to storage.googleapis.com (storage.googleapis.com)|142.250.152.128|:443... connected.\n",
            "HTTP request sent, awaiting response... 200 OK\n",
            "Length: 68606236 (65M) [application/zip]\n",
            "Saving to: ‘cats_and_dogs_filtered.zip’\n",
            "\n",
            "cats_and_dogs_filte 100%[===================>]  65.43M   232MB/s    in 0.3s    \n",
            "\n",
            "2022-05-03 09:11:52 (232 MB/s) - ‘cats_and_dogs_filtered.zip’ saved [68606236/68606236]\n",
            "\n"
          ]
        }
      ]
    },
    {
      "cell_type": "code",
      "source": [
        "import zipfile\n",
        "\n",
        "zip_ref = zipfile.ZipFile('/content/cats_and_dogs_filtered.zip', 'r')\n",
        "zip_ref.extractall('/tmp')\n",
        "zip_ref.close()"
      ],
      "metadata": {
        "id": "fJeuladWMLAQ"
      },
      "execution_count": 17,
      "outputs": []
    },
    {
      "cell_type": "code",
      "source": [
        "import os\n",
        "\n",
        "base_dir = '/tmp/cats_and_dogs_filtered'\n",
        "\n",
        "train_dir = os.path.join(base_dir, 'train')\n",
        "train_cats_dir = os.path.join(train_dir, 'cats')\n",
        "train_dogs_dir = os.path.join(train_dir, 'dogs')\n",
        "\n",
        "validation_dir = os.path.join(base_dir, 'validation')\n",
        "validation_cats_dir = os.path.join(validation_dir, 'cats')\n",
        "validation_dogs_dir = os.path.join(validation_dir, 'dogs')\n",
        "\n"
      ],
      "metadata": {
        "id": "WR4Xs_4sMo8U"
      },
      "execution_count": 18,
      "outputs": []
    },
    {
      "cell_type": "code",
      "source": [
        "import matplotlib.pyplot as plt\n",
        "import matplotlib.image as mpimg\n",
        "import cv2\n",
        "for images in os.listdir(train_cats_dir)[:5]:\n",
        "  image = mpimg.imread(os.path.join(train_cats_dir, images))\n",
        "  plt.imshow(image)"
      ],
      "metadata": {
        "colab": {
          "base_uri": "https://localhost:8080/",
          "height": 289
        },
        "id": "hKMVHcrsQRXi",
        "outputId": "8d8d72b7-1316-4802-9a33-f92796cab462"
      },
      "execution_count": 31,
      "outputs": [
        {
          "output_type": "display_data",
          "data": {
            "text/plain": [
              "<Figure size 432x288 with 1 Axes>"
            ],
            "image/png": "[encoded data removed]"
          },
          "metadata": {
            "needs_background": "light"
          }
        }
      ]
    },
    {
      "cell_type": "code",
      "source": [
        "from tensorflow.keras.preprocessing.image import ImageDataGenerator\n",
        "\n",
        "train_datagen = ImageDataGenerator(rescale = 1.0/255.0,\n",
        "                                   rotation_range = 40,\n",
        "                                   width_shift_range = 0.2,\n",
        "                                   height_shift_range = 0.2,\n",
        "                                   zoom_range = 0.2,\n",
        "                                   shear_range = 0.2,\n",
        "                                   horizontal_flip = True,\n",
        "                                   fill_mode = 'nearest')\n",
        "\n",
        "train_generator = train_datagen.flow_from_directory(directory = train_dir,\n",
        "                                                    target_size = (150,150),\n",
        "                                                    batch_size = 20,\n",
        "                                                    class_mode = 'binary')\n",
        "\n",
        "validation_datagen = ImageDataGenerator(rescale = 1.0/255.0)\n",
        "\n",
        "validation_generator = validation_datagen.flow_from_directory(directory = validation_dir,\n",
        "                                                        target_size = (150,150),\n",
        "                                                        batch_size = 20,\n",
        "                                                        class_mode = 'binary')\n",
        "\n"
      ],
      "metadata": {
        "colab": {
          "base_uri": "https://localhost:8080/"
        },
        "id": "kfelLTNVNkqr",
        "outputId": "e492bb8f-5aa7-41c3-f245-305fb35225af"
      },
      "execution_count": 20,
      "outputs": [
        {
          "output_type": "stream",
          "name": "stdout",
          "text": [
            "Found 2000 images belonging to 2 classes.\n",
            "Found 1000 images belonging to 2 classes.\n"
          ]
        }
      ]
    },
    {
      "cell_type": "code",
      "source": [
        "history = model.fit(train_generator, \n",
        "                    steps_per_epoch= 100,\n",
        "                    epochs = 20,\n",
        "                    validation_data = validation_generator,\n",
        "                    validation_steps = 50)"
      ],
      "metadata": {
        "colab": {
          "base_uri": "https://localhost:8080/"
        },
        "id": "JBicOvpaPHes",
        "outputId": "9b44da90-381a-4bd5-cc48-6489f457b56f"
      },
      "execution_count": 22,
      "outputs": [
        {
          "output_type": "stream",
          "name": "stdout",
          "text": [
            "Epoch 1/20\n",
            "100/100 [==============================] - 39s 252ms/step - loss: 1.1538 - accuracy: 0.8460 - val_loss: 0.2902 - val_accuracy: 0.9230\n",
            "Epoch 2/20\n",
            "100/100 [==============================] - 23s 231ms/step - loss: 0.4390 - accuracy: 0.8890 - val_loss: 0.1454 - val_accuracy: 0.9550\n",
            "Epoch 3/20\n",
            "100/100 [==============================] - 24s 242ms/step - loss: 0.3319 - accuracy: 0.9035 - val_loss: 0.1240 - val_accuracy: 0.9630\n",
            "Epoch 4/20\n",
            "100/100 [==============================] - 23s 231ms/step - loss: 0.2775 - accuracy: 0.9145 - val_loss: 0.2545 - val_accuracy: 0.9410\n",
            "Epoch 5/20\n",
            "100/100 [==============================] - 24s 239ms/step - loss: 0.2746 - accuracy: 0.9170 - val_loss: 0.1642 - val_accuracy: 0.9520\n",
            "Epoch 6/20\n",
            "100/100 [==============================] - 24s 240ms/step - loss: 0.2572 - accuracy: 0.9190 - val_loss: 0.2016 - val_accuracy: 0.9450\n",
            "Epoch 7/20\n",
            "100/100 [==============================] - 26s 257ms/step - loss: 0.2419 - accuracy: 0.9270 - val_loss: 0.1354 - val_accuracy: 0.9660\n",
            "Epoch 8/20\n",
            "100/100 [==============================] - 25s 247ms/step - loss: 0.2359 - accuracy: 0.9320 - val_loss: 0.1089 - val_accuracy: 0.9680\n",
            "Epoch 9/20\n",
            "100/100 [==============================] - 25s 252ms/step - loss: 0.2319 - accuracy: 0.9285 - val_loss: 0.1245 - val_accuracy: 0.9670\n",
            "Epoch 10/20\n",
            "100/100 [==============================] - 25s 246ms/step - loss: 0.2261 - accuracy: 0.9330 - val_loss: 0.2569 - val_accuracy: 0.9410\n",
            "Epoch 11/20\n",
            "100/100 [==============================] - 25s 248ms/step - loss: 0.2406 - accuracy: 0.9340 - val_loss: 0.1329 - val_accuracy: 0.9620\n",
            "Epoch 12/20\n",
            "100/100 [==============================] - 24s 240ms/step - loss: 0.1967 - accuracy: 0.9390 - val_loss: 0.3165 - val_accuracy: 0.9350\n",
            "Epoch 13/20\n",
            "100/100 [==============================] - 24s 237ms/step - loss: 0.2262 - accuracy: 0.9385 - val_loss: 0.1499 - val_accuracy: 0.9630\n",
            "Epoch 14/20\n",
            "100/100 [==============================] - 23s 231ms/step - loss: 0.1709 - accuracy: 0.9455 - val_loss: 0.1310 - val_accuracy: 0.9710\n",
            "Epoch 15/20\n",
            "100/100 [==============================] - 24s 238ms/step - loss: 0.1864 - accuracy: 0.9450 - val_loss: 0.1418 - val_accuracy: 0.9670\n",
            "Epoch 16/20\n",
            "100/100 [==============================] - 23s 232ms/step - loss: 0.1994 - accuracy: 0.9385 - val_loss: 0.1385 - val_accuracy: 0.9610\n",
            "Epoch 17/20\n",
            "100/100 [==============================] - 26s 259ms/step - loss: 0.1878 - accuracy: 0.9425 - val_loss: 0.1240 - val_accuracy: 0.9730\n",
            "Epoch 18/20\n",
            "100/100 [==============================] - 26s 262ms/step - loss: 0.1820 - accuracy: 0.9425 - val_loss: 0.2085 - val_accuracy: 0.9550\n",
            "Epoch 19/20\n",
            "100/100 [==============================] - 24s 236ms/step - loss: 0.1956 - accuracy: 0.9425 - val_loss: 0.1069 - val_accuracy: 0.9730\n",
            "Epoch 20/20\n",
            "100/100 [==============================] - 23s 230ms/step - loss: 0.1643 - accuracy: 0.9485 - val_loss: 0.0969 - val_accuracy: 0.9720\n"
          ]
        }
      ]
    },
    {
      "cell_type": "code",
      "source": [
        "import matplotlib.pyplot as plt\n",
        "\n",
        "acc = history.history['accuracy']\n",
        "val_acc = history.history['val_accuracy']\n",
        "epochs  = range(len(acc))\n",
        "\n",
        "plt.plot(epochs, acc, 'r', 'Training Accuracy')\n",
        "plt.plot(epochs, val_acc, 'b', 'Validation Accuracy')\n",
        "plt.title('Training and Validation Accuracy')\n",
        "\n",
        "plt.figure()\n",
        "plt.show()\n",
        "\n"
      ],
      "metadata": {
        "colab": {
          "base_uri": "https://localhost:8080/",
          "height": 319
        },
        "id": "tqckxlnlPj05",
        "outputId": "653cd0ad-d79f-452c-bdd6-cdcefc9594d8"
      },
      "execution_count": 35,
      "outputs": [
        {
          "output_type": "display_data",
          "data": {
            "text/plain": [
              "<Figure size 432x288 with 1 Axes>"
            ],
            "image/png": "[encoded data removed]"
          },
          "metadata": {
            "needs_background": "light"
          }
        },
        {
          "output_type": "display_data",
          "data": {
            "text/plain": [
              "<Figure size 432x288 with 0 Axes>"
            ]
          },
          "metadata": {}
        }
      ]
    },
    {
      "cell_type": "code",
      "source": [
        ""
      ],
      "metadata": {
        "id": "RD3IP_I1VMHY"
      },
      "execution_count": null,
      "outputs": []
    }
  ]
}