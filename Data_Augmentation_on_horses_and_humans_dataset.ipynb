{
  "nbformat": 4,
  "nbformat_minor": 0,
  "metadata": {
    "colab": {
      "name": "Data Augmentation on horses and humans dataset.ipynb",
      "provenance": [],
      "collapsed_sections": [],
      "authorship_tag": "ABX9TyMWbA6HV1SV9lbhGgNep5FQ",
      "include_colab_link": true
    },
    "kernelspec": {
      "name": "python3",
      "display_name": "Python 3"
    },
    "language_info": {
      "name": "python"
    },
    "accelerator": "GPU"
  },
  "cells": [
    {
      "cell_type": "markdown",
      "metadata": {
        "id": "view-in-github",
        "colab_type": "text"
      },
      "source": [
        "<a href=\"https://colab.research.google.com/github/Ankur099IIT/CNN-in-tensorflow--Course-2-Deeplearning.ai/blob/main/Data_Augmentation_on_horses_and_humans_dataset.ipynb\" target=\"_parent\"><img src=\"https://colab.research.google.com/assets/colab-badge.svg\" alt=\"Open In Colab\"/></a>"
      ]
    },
    {
      "cell_type": "code",
      "execution_count": 2,
      "metadata": {
        "colab": {
          "base_uri": "https://localhost:8080/"
        },
        "id": "LKKCfehZ0bgC",
        "outputId": "8579a5d6-4a7d-4749-a2ab-9936fb4d4cd3"
      },
      "outputs": [
        {
          "output_type": "stream",
          "name": "stdout",
          "text": [
            "--2022-04-29 11:43:00--  https://storage.googleapis.com/tensorflow-1-public/course2/week3/horse-or-human.zip\n",
            "Resolving storage.googleapis.com (storage.googleapis.com)... 142.251.8.128, 64.233.189.128, 108.177.97.128, ...\n",
            "Connecting to storage.googleapis.com (storage.googleapis.com)|142.251.8.128|:443... connected.\n",
            "HTTP request sent, awaiting response... 200 OK\n",
            "Length: 149574867 (143M) [application/zip]\n",
            "Saving to: ‘horse-or-human.zip’\n",
            "\n",
            "horse-or-human.zip  100%[===================>] 142.65M  48.5MB/s    in 2.9s    \n",
            "\n",
            "2022-04-29 11:43:03 (48.5 MB/s) - ‘horse-or-human.zip’ saved [149574867/149574867]\n",
            "\n"
          ]
        }
      ],
      "source": [
        "# Dwonload training set\n",
        "\n",
        "!wget https://storage.googleapis.com/tensorflow-1-public/course2/week3/horse-or-human.zip"
      ]
    },
    {
      "cell_type": "code",
      "source": [
        "# download validation set\n",
        "\n",
        "!wget https://storage.googleapis.com/tensorflow-1-public/course2/week3/validation-horse-or-human.zip\n"
      ],
      "metadata": {
        "colab": {
          "base_uri": "https://localhost:8080/"
        },
        "id": "MENPN77N1cyv",
        "outputId": "3150b9e9-59be-4e36-a5af-31ac749c3ad0"
      },
      "execution_count": 3,
      "outputs": [
        {
          "output_type": "stream",
          "name": "stdout",
          "text": [
            "--2022-04-29 11:43:03--  https://storage.googleapis.com/tensorflow-1-public/course2/week3/validation-horse-or-human.zip\n",
            "Resolving storage.googleapis.com (storage.googleapis.com)... 74.125.203.128, 64.233.189.128, 108.177.97.128, ...\n",
            "Connecting to storage.googleapis.com (storage.googleapis.com)|74.125.203.128|:443... connected.\n",
            "HTTP request sent, awaiting response... 200 OK\n",
            "Length: 11480187 (11M) [application/zip]\n",
            "Saving to: ‘validation-horse-or-human.zip’\n",
            "\n",
            "validation-horse-or 100%[===================>]  10.95M  38.5MB/s    in 0.3s    \n",
            "\n",
            "2022-04-29 11:43:04 (38.5 MB/s) - ‘validation-horse-or-human.zip’ saved [11480187/11480187]\n",
            "\n"
          ]
        }
      ]
    },
    {
      "cell_type": "code",
      "source": [
        "import zipfile\n",
        "\n",
        "zip_ref = zipfile.ZipFile('/content/horse-or-human.zip', 'r')\n",
        "zip_ref.extractall('/content/horse-or-human')\n",
        "zip_ref = zipfile.ZipFile('/content/validation-horse-or-human.zip', 'r')\n",
        "zip_ref.extractall('/content/validation-horse-or-human')\n",
        "zip_ref.close()"
      ],
      "metadata": {
        "id": "Taf0QaPV1m1M"
      },
      "execution_count": 5,
      "outputs": []
    },
    {
      "cell_type": "code",
      "source": [
        "import os\n",
        "\n",
        "os.getcwd()\n",
        "\n",
        "train_horse_dir = os.path.join('/content/horse-or-human/horses')\n",
        "\n",
        "train_human_dir = os.path.join('/content/horse-or-human/humans')\n",
        "\n",
        "val_horse_dir = os.path.join('/content/validation-horse-or-human/horses')\n",
        "\n",
        "val_human_dir = os.path.join('/content/validation-horse-or-human/humans')\n",
        "\n",
        "\n"
      ],
      "metadata": {
        "id": "NF0DaTXJ2LJ8"
      },
      "execution_count": 6,
      "outputs": []
    },
    {
      "cell_type": "code",
      "source": [
        "horse_images = os.listdir(train_horse_dir)\n",
        "horse_images[:4]"
      ],
      "metadata": {
        "colab": {
          "base_uri": "https://localhost:8080/"
        },
        "id": "9FzcgXceBkIg",
        "outputId": "21aacdc5-06b2-48e0-ae78-95909e0ee8c2"
      },
      "execution_count": 7,
      "outputs": [
        {
          "output_type": "execute_result",
          "data": {
            "text/plain": [
              "['horse21-6.png', 'horse37-8.png', 'horse16-7.png', 'horse31-9.png']"
            ]
          },
          "metadata": {},
          "execution_count": 7
        }
      ]
    },
    {
      "cell_type": "code",
      "source": [
        "# Data preprocesing with image augmentation\n",
        "\n",
        "from tensorflow.keras.preprocessing.image import ImageDataGenerator\n",
        "\n",
        "train_datagen  = ImageDataGenerator(rescale = 1.0/255.0,\n",
        "                                    rotation_range =40,\n",
        "                                    width_shift_range = 0.2,\n",
        "                                    height_shift_range = 0.2,\n",
        "                                    shear_range = 0.2,\n",
        "                                    zoom_range = 0.2,\n",
        "                                    horizontal_flip = True,\n",
        "                                    fill_mode = 'nearest')\n",
        "\n",
        "training_generator = train_datagen.flow_from_directory(directory = '/content/horse-or-human',\n",
        "                                                       target_size = (150,150),\n",
        "                                                       batch_size = 128,\n",
        "                                                       class_mode = 'binary')\n",
        "\n",
        "validation_datagen = ImageDataGenerator(rescale = 1.0/255.0)\n",
        "\n",
        "validation_generator = validation_datagen.flow_from_directory(directory = '/content/validation-horse-or-human',\n",
        "                                                              target_size = (150,150),\n",
        "                                                              batch_size = 32,\n",
        "                                                              class_mode = 'binary')"
      ],
      "metadata": {
        "colab": {
          "base_uri": "https://localhost:8080/"
        },
        "id": "4WM91MxF_40K",
        "outputId": "d7bb4b8d-a16c-45f7-d5dc-b2d9e4dba447"
      },
      "execution_count": 8,
      "outputs": [
        {
          "output_type": "stream",
          "name": "stdout",
          "text": [
            "Found 1027 images belonging to 2 classes.\n",
            "Found 256 images belonging to 2 classes.\n"
          ]
        }
      ]
    },
    {
      "cell_type": "code",
      "source": [
        "import tensorflow as tf\n",
        "from tensorflow.keras.optimizers import RMSprop\n",
        "\n",
        "def create_model():\n",
        "  \n",
        "  model = tf.keras.Sequential([\n",
        "           tf.keras.layers.Conv2D(16, (3,3), activation = 'relu', input_shape = (150,150,3)),\n",
        "           tf.keras.layers.MaxPooling2D(2,2),\n",
        "           tf.keras.layers.Conv2D(32, (3,3), activation = 'relu'),\n",
        "           tf.keras.layers.MaxPooling2D(2,2),\n",
        "           tf.keras.layers.Conv2D(64, (3,3), activation = 'relu'),\n",
        "           tf.keras.layers.MaxPooling2D(2,2),\n",
        "           tf.keras.layers.Conv2D(64, (3,3), activation = 'relu'),\n",
        "           tf.keras.layers.MaxPooling2D(2,2),\n",
        "           tf.keras.layers.Conv2D(64, (3,3), activation = 'relu'),\n",
        "           tf.keras.layers.MaxPooling2D(2,2),\n",
        "\n",
        "           tf.keras.layers.Flatten(),\n",
        "           tf.keras.layers.Dense(units = 512, activation = 'relu'),\n",
        "           tf.keras.layers.Dense(1, activation = 'sigmoid')           \n",
        "  ])\n",
        "\n",
        "  model.compile(loss = 'binary_crossentropy',\n",
        "                optimizer = RMSprop(learning_rate = 0.001),\n",
        "                metrics = ['accuracy'])\n",
        "  \n",
        "  return model"
      ],
      "metadata": {
        "id": "TtKArqthFN5H"
      },
      "execution_count": 11,
      "outputs": []
    },
    {
      "cell_type": "code",
      "source": [
        "model = create_model()\n",
        "\n",
        "history = model.fit(training_generator,\n",
        "                    steps_per_epoch = 8,\n",
        "                    epochs = 20,\n",
        "                    validation_data = validation_generator,\n",
        "                    validation_steps = 8)"
      ],
      "metadata": {
        "colab": {
          "base_uri": "https://localhost:8080/"
        },
        "id": "q6OL9Ow3HZl4",
        "outputId": "3ee194b5-8fc1-4b3b-856c-6181d557bb59"
      },
      "execution_count": 12,
      "outputs": [
        {
          "output_type": "stream",
          "name": "stdout",
          "text": [
            "Epoch 1/20\n",
            "8/8 [==============================] - 32s 4s/step - loss: 0.6992 - accuracy: 0.4928 - val_loss: 0.6913 - val_accuracy: 0.5000\n",
            "Epoch 2/20\n",
            "8/8 [==============================] - 31s 4s/step - loss: 0.6888 - accuracy: 0.5317 - val_loss: 0.6881 - val_accuracy: 0.5000\n",
            "Epoch 3/20\n",
            "8/8 [==============================] - 32s 4s/step - loss: 0.6858 - accuracy: 0.5462 - val_loss: 0.6981 - val_accuracy: 0.5000\n",
            "Epoch 4/20\n",
            "8/8 [==============================] - 32s 4s/step - loss: 0.7314 - accuracy: 0.6051 - val_loss: 0.6382 - val_accuracy: 0.5195\n",
            "Epoch 5/20\n",
            "8/8 [==============================] - 48s 6s/step - loss: 0.6772 - accuracy: 0.6377 - val_loss: 0.5957 - val_accuracy: 0.6836\n",
            "Epoch 6/20\n",
            "8/8 [==============================] - 40s 5s/step - loss: 0.6925 - accuracy: 0.6196 - val_loss: 0.6285 - val_accuracy: 0.5000\n",
            "Epoch 7/20\n",
            "8/8 [==============================] - 36s 4s/step - loss: 0.7048 - accuracy: 0.6652 - val_loss: 0.5968 - val_accuracy: 0.5195\n",
            "Epoch 8/20\n",
            "8/8 [==============================] - 36s 5s/step - loss: 0.5120 - accuracy: 0.7586 - val_loss: 1.3247 - val_accuracy: 0.5000\n",
            "Epoch 9/20\n",
            "8/8 [==============================] - 32s 5s/step - loss: 0.5376 - accuracy: 0.7152 - val_loss: 0.8171 - val_accuracy: 0.6016\n",
            "Epoch 10/20\n",
            "8/8 [==============================] - 29s 3s/step - loss: 0.5768 - accuracy: 0.6719 - val_loss: 0.6520 - val_accuracy: 0.5508\n",
            "Epoch 11/20\n",
            "8/8 [==============================] - 29s 3s/step - loss: 0.4888 - accuracy: 0.7731 - val_loss: 0.8419 - val_accuracy: 0.7148\n",
            "Epoch 12/20\n",
            "8/8 [==============================] - 30s 4s/step - loss: 0.6785 - accuracy: 0.7497 - val_loss: 0.6654 - val_accuracy: 0.6211\n",
            "Epoch 13/20\n",
            "8/8 [==============================] - 30s 4s/step - loss: 0.4796 - accuracy: 0.7620 - val_loss: 0.6922 - val_accuracy: 0.6562\n",
            "Epoch 14/20\n",
            "8/8 [==============================] - 29s 4s/step - loss: 0.4897 - accuracy: 0.7998 - val_loss: 1.0066 - val_accuracy: 0.5938\n",
            "Epoch 15/20\n",
            "8/8 [==============================] - 29s 4s/step - loss: 0.4512 - accuracy: 0.8042 - val_loss: 0.9432 - val_accuracy: 0.6719\n",
            "Epoch 16/20\n",
            "8/8 [==============================] - 29s 3s/step - loss: 0.4264 - accuracy: 0.8031 - val_loss: 0.5964 - val_accuracy: 0.7383\n",
            "Epoch 17/20\n",
            "8/8 [==============================] - 29s 3s/step - loss: 0.3385 - accuracy: 0.8521 - val_loss: 0.8926 - val_accuracy: 0.7305\n",
            "Epoch 18/20\n",
            "8/8 [==============================] - 29s 3s/step - loss: 0.5547 - accuracy: 0.7809 - val_loss: 1.4605 - val_accuracy: 0.5039\n",
            "Epoch 19/20\n",
            "8/8 [==============================] - 29s 3s/step - loss: 0.4663 - accuracy: 0.8042 - val_loss: 0.3088 - val_accuracy: 0.9570\n",
            "Epoch 20/20\n",
            "8/8 [==============================] - 31s 4s/step - loss: 0.3345 - accuracy: 0.8750 - val_loss: 0.2139 - val_accuracy: 0.9375\n"
          ]
        }
      ]
    },
    {
      "cell_type": "code",
      "source": [
        "import matplotlib.pyplot as plt\n",
        "def plot_loss_acc(history):\n",
        "\n",
        "  acc = history.history['accuracy']\n",
        "  val_acc = history.history['val_accuracy']\n",
        "\n",
        "  loss = history.history['loss']\n",
        "  val_loss = history.history['val_loss']\n",
        "\n",
        "  epochs = range(len(acc))\n",
        "\n",
        "  plt.plot(epochs, acc, 'r', 'Training Accuracy')\n",
        "  plt.plot(epochs, val_acc, 'b', 'Validation Accuracy')\n",
        "  plt.title('Training and Validation Accuracy')\n",
        "  plt.figure()\n",
        "\n",
        "  plt.plot(epochs, loss, 'r', 'Training Loss')\n",
        "  plt.plot(epochs, val_loss, 'b', 'Validation Loss')\n",
        "  plt.title('Training and Validation Loss')\n",
        "  plt.figure()\n"
      ],
      "metadata": {
        "id": "WcjWD3EcImBA"
      },
      "execution_count": 13,
      "outputs": []
    },
    {
      "cell_type": "code",
      "source": [
        "plot_loss_acc(history)"
      ],
      "metadata": {
        "colab": {
          "base_uri": "https://localhost:8080/",
          "height": 583
        },
        "id": "6A-t2lNxJyvd",
        "outputId": "b965752e-1a46-446d-d84b-9f54def2bad2"
      },
      "execution_count": 14,
      "outputs": [
        {
          "output_type": "display_data",
          "data": {
            "text/plain": [
              "<Figure size 432x288 with 1 Axes>"
            ],
            "image/png": "[encoded data removed]"
          },
          "metadata": {
            "needs_background": "light"
          }
        },
        {
          "output_type": "display_data",
          "data": {
            "text/plain": [
              "<Figure size 432x288 with 1 Axes>"
            ],
            "image/png": "[encoded data removed]"
          },
          "metadata": {
            "needs_background": "light"
          }
        },
        {
          "output_type": "display_data",
          "data": {
            "text/plain": [
              "<Figure size 432x288 with 0 Axes>"
            ]
          },
          "metadata": {}
        }
      ]
    },
    {
      "cell_type": "code",
      "source": [
        ""
      ],
      "metadata": {
        "id": "WvT0uxa1J5Ue"
      },
      "execution_count": null,
      "outputs": []
    }
  ]
}