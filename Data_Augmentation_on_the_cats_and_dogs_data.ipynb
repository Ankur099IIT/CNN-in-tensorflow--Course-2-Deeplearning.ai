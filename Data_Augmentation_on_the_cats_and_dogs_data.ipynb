{
  "nbformat": 4,
  "nbformat_minor": 0,
  "metadata": {
    "colab": {
      "name": "Data Augmentation on the cats and dogs data.ipynb",
      "provenance": [],
      "collapsed_sections": [],
      "authorship_tag": "ABX9TyPjqeruy7IqDErp3e4Nx5xT",
      "include_colab_link": true
    },
    "kernelspec": {
      "name": "python3",
      "display_name": "Python 3"
    },
    "language_info": {
      "name": "python"
    },
    "accelerator": "GPU"
  },
  "cells": [
    {
      "cell_type": "markdown",
      "metadata": {
        "id": "view-in-github",
        "colab_type": "text"
      },
      "source": [
        "<a href=\"https://colab.research.google.com/github/Ankur099IIT/CNN-in-tensorflow--Course-2-Deeplearning.ai/blob/main/Data_Augmentation_on_the_cats_and_dogs_data.ipynb\" target=\"_parent\"><img src=\"https://colab.research.google.com/assets/colab-badge.svg\" alt=\"Open In Colab\"/></a>"
      ]
    },
    {
      "cell_type": "markdown",
      "source": [
        "**BaseLine performance**"
      ],
      "metadata": {
        "id": "f1B7yrGuoSzC"
      }
    },
    {
      "cell_type": "code",
      "execution_count": 3,
      "metadata": {
        "id": "rLaAYMR8eDxX",
        "colab": {
          "base_uri": "https://localhost:8080/"
        },
        "outputId": "a8549781-7488-4572-e448-f58bb02ac0a3"
      },
      "outputs": [
        {
          "output_type": "stream",
          "name": "stdout",
          "text": [
            "--2022-04-29 10:08:48--  https://storage.googleapis.com/tensorflow-1-public/course2/cats_and_dogs_filtered.zip\n",
            "Resolving storage.googleapis.com (storage.googleapis.com)... 173.194.197.128, 173.194.198.128, 173.194.74.128, ...\n",
            "Connecting to storage.googleapis.com (storage.googleapis.com)|173.194.197.128|:443... connected.\n",
            "HTTP request sent, awaiting response... 200 OK\n",
            "Length: 68606236 (65M) [application/zip]\n",
            "Saving to: ‘cats_and_dogs_filtered.zip.1’\n",
            "\n",
            "cats_and_dogs_filte 100%[===================>]  65.43M   243MB/s    in 0.3s    \n",
            "\n",
            "2022-04-29 10:08:48 (243 MB/s) - ‘cats_and_dogs_filtered.zip.1’ saved [68606236/68606236]\n",
            "\n"
          ]
        }
      ],
      "source": [
        "!wget https://storage.googleapis.com/tensorflow-1-public/course2/cats_and_dogs_filtered.zip"
      ]
    },
    {
      "cell_type": "code",
      "source": [
        "import zipfile\n",
        "\n",
        "zip_ref = zipfile.ZipFile('/content/cats_and_dogs_filtered.zip', 'r')\n",
        "zip_ref.extractall('/content')\n",
        "zip_ref.close()"
      ],
      "metadata": {
        "id": "z5G8eY3IfGoV"
      },
      "execution_count": 4,
      "outputs": []
    },
    {
      "cell_type": "code",
      "source": [
        "import os\n",
        "\n",
        "os.getcwd()"
      ],
      "metadata": {
        "id": "e8te7YH2fUNJ",
        "colab": {
          "base_uri": "https://localhost:8080/",
          "height": 57
        },
        "outputId": "1e45aa88-9f7d-47cd-bb30-571b317661dd"
      },
      "execution_count": 5,
      "outputs": [
        {
          "output_type": "execute_result",
          "data": {
            "text/plain": [
              "'/content'"
            ],
            "application/vnd.google.colaboratory.intrinsic+json": {
              "type": "string"
            }
          },
          "metadata": {},
          "execution_count": 5
        }
      ]
    },
    {
      "cell_type": "code",
      "source": [
        "base_dir = '/content/cats_and_dogs_filtered'\n",
        "\n",
        "train_dir = os.path.join(base_dir, 'train')\n",
        "validation_dir = os.path.join(base_dir, 'validation')\n",
        "\n",
        "\n",
        "train_cat_dir = os.path.join(train_dir, 'cats')\n",
        "train_dog_dir = os.path.join(train_dir, 'dogs')\n",
        "\n",
        "validation_cat_dir = os.path.join(validation_dir, 'cats')\n",
        "validation_dog_dir = os.path.join(validation_dir, 'dogs')\n",
        "\n",
        "print('Total number of cat images in training', len(os.listdir(train_cat_dir)))\n",
        "print('Total number of dog images in training', len(os.listdir(train_dog_dir)))\n",
        "print('Total number of cat images in validation', len(os.listdir(validation_cat_dir)))\n",
        "print('Total number of cat images in validation', len(os.listdir(validation_dog_dir)))"
      ],
      "metadata": {
        "id": "QQU1VP--fl77",
        "colab": {
          "base_uri": "https://localhost:8080/"
        },
        "outputId": "41a28f01-7347-403e-d303-5b6f25cde194"
      },
      "execution_count": 6,
      "outputs": [
        {
          "output_type": "stream",
          "name": "stdout",
          "text": [
            "Total number of cat images in training 1000\n",
            "Total number of dog images in training 1000\n",
            "Total number of cat images in validation 500\n",
            "Total number of cat images in validation 500\n"
          ]
        }
      ]
    },
    {
      "cell_type": "code",
      "source": [
        ""
      ],
      "metadata": {
        "id": "ZaMaSvoWih_c"
      },
      "execution_count": 6,
      "outputs": []
    },
    {
      "cell_type": "code",
      "source": [
        "# data preprocessing\n",
        "\n",
        "from tensorflow.keras.preprocessing.image import ImageDataGenerator\n",
        "\n",
        "train_datagen  = ImageDataGenerator(rescale = 1.0/255.0)\n",
        "\n",
        "training_generator = train_datagen.flow_from_directory(directory = train_dir,\n",
        "                                                       target_size = (150,150),\n",
        "                                                       batch_size = 20,\n",
        "                                                       class_mode = 'binary')\n",
        "\n",
        "validation_datagen = ImageDataGenerator(rescale = 1.0/255.0)\n",
        "\n",
        "\n",
        "validation_generator = validation_datagen.flow_from_directory(directory = validation_dir,\n",
        "                                                              target_size = (150,150),\n",
        "                                                              batch_size = 20,\n",
        "                                                              class_mode = 'binary'\n",
        "                                                              )"
      ],
      "metadata": {
        "id": "9vFIeOHrhdJe",
        "colab": {
          "base_uri": "https://localhost:8080/"
        },
        "outputId": "88b3a837-566a-4b5c-bb3b-1191e5ed4528"
      },
      "execution_count": 7,
      "outputs": [
        {
          "output_type": "stream",
          "name": "stdout",
          "text": [
            "Found 2000 images belonging to 2 classes.\n",
            "Found 1000 images belonging to 2 classes.\n"
          ]
        }
      ]
    },
    {
      "cell_type": "code",
      "source": [
        "import tensorflow as tf\n",
        "from tensorflow.keras.optimizers import RMSprop\n",
        "\n",
        "def create_model():\n",
        "  model = tf.keras.Sequential([\n",
        "          tf.keras.layers.Conv2D(32, (3,3), activation = 'relu', input_shape = (150,150,3)),\n",
        "          tf.keras.layers.MaxPooling2D(2,2),\n",
        "          tf.keras.layers.Conv2D(64, (3,3), activation = 'relu'),\n",
        "          tf.keras.layers.MaxPooling2D(2,2),\n",
        "          tf.keras.layers.Conv2D(128, (3,3), activation= 'relu'),\n",
        "          tf.keras.layers.MaxPooling2D(2,2),\n",
        "          tf.keras.layers.Conv2D(128, (3,3), activation = 'relu'),\n",
        "          tf.keras.layers.MaxPooling2D(2,2),\n",
        "\n",
        "          tf.keras.layers.Flatten(),\n",
        "          tf.keras.layers.Dense(units = 512, activation = 'relu'),\n",
        "          tf.keras.layers.Dense(1, activation = 'sigmoid')\n",
        "  ])\n",
        "\n",
        "  model.compile(loss = 'binary_crossentropy',\n",
        "                optimizer = RMSprop(learning_rate = 0.001),\n",
        "                metrics = ['accuracy'])\n",
        "  \n",
        "  return model"
      ],
      "metadata": {
        "id": "WDfp-p-lji_d"
      },
      "execution_count": 8,
      "outputs": []
    },
    {
      "cell_type": "code",
      "source": [
        "model = create_model()\n",
        "\n",
        "history = model.fit(training_generator,\n",
        "                    steps_per_epoch = 100,\n",
        "                    epochs = 20,\n",
        "                    validation_data = validation_generator,\n",
        "                    validation_steps = 50, \n",
        "                    verbose = 2)"
      ],
      "metadata": {
        "id": "epFMdZ_Uk6Aj",
        "colab": {
          "base_uri": "https://localhost:8080/"
        },
        "outputId": "62542d2b-85bf-4325-eb26-6ceacb1761fb"
      },
      "execution_count": 9,
      "outputs": [
        {
          "output_type": "stream",
          "name": "stdout",
          "text": [
            "Epoch 1/20\n",
            "100/100 - 109s - loss: 0.7777 - accuracy: 0.5000 - val_loss: 0.6906 - val_accuracy: 0.5930 - 109s/epoch - 1s/step\n",
            "Epoch 2/20\n",
            "100/100 - 105s - loss: 0.7052 - accuracy: 0.5385 - val_loss: 0.6813 - val_accuracy: 0.5600 - 105s/epoch - 1s/step\n",
            "Epoch 3/20\n",
            "100/100 - 105s - loss: 0.6842 - accuracy: 0.5985 - val_loss: 0.6395 - val_accuracy: 0.6410 - 105s/epoch - 1s/step\n",
            "Epoch 4/20\n",
            "100/100 - 104s - loss: 0.6116 - accuracy: 0.6595 - val_loss: 0.6055 - val_accuracy: 0.6580 - 104s/epoch - 1s/step\n",
            "Epoch 5/20\n",
            "100/100 - 104s - loss: 0.5781 - accuracy: 0.7030 - val_loss: 0.5891 - val_accuracy: 0.6790 - 104s/epoch - 1s/step\n",
            "Epoch 6/20\n",
            "100/100 - 104s - loss: 0.5224 - accuracy: 0.7425 - val_loss: 0.5478 - val_accuracy: 0.7280 - 104s/epoch - 1s/step\n",
            "Epoch 7/20\n",
            "100/100 - 103s - loss: 0.4697 - accuracy: 0.7800 - val_loss: 0.5588 - val_accuracy: 0.7240 - 103s/epoch - 1s/step\n",
            "Epoch 8/20\n",
            "100/100 - 104s - loss: 0.4372 - accuracy: 0.7970 - val_loss: 0.5220 - val_accuracy: 0.7480 - 104s/epoch - 1s/step\n",
            "Epoch 9/20\n",
            "100/100 - 104s - loss: 0.3871 - accuracy: 0.8305 - val_loss: 0.5378 - val_accuracy: 0.7360 - 104s/epoch - 1s/step\n",
            "Epoch 10/20\n",
            "100/100 - 104s - loss: 0.3365 - accuracy: 0.8545 - val_loss: 0.5368 - val_accuracy: 0.7490 - 104s/epoch - 1s/step\n",
            "Epoch 11/20\n",
            "100/100 - 104s - loss: 0.2727 - accuracy: 0.8825 - val_loss: 0.6678 - val_accuracy: 0.7320 - 104s/epoch - 1s/step\n",
            "Epoch 12/20\n",
            "100/100 - 105s - loss: 0.2338 - accuracy: 0.9010 - val_loss: 0.7189 - val_accuracy: 0.7220 - 105s/epoch - 1s/step\n",
            "Epoch 13/20\n",
            "100/100 - 105s - loss: 0.1839 - accuracy: 0.9230 - val_loss: 0.8207 - val_accuracy: 0.7470 - 105s/epoch - 1s/step\n",
            "Epoch 14/20\n",
            "100/100 - 105s - loss: 0.1971 - accuracy: 0.9485 - val_loss: 1.7054 - val_accuracy: 0.6750 - 105s/epoch - 1s/step\n",
            "Epoch 15/20\n",
            "100/100 - 104s - loss: 0.1338 - accuracy: 0.9525 - val_loss: 0.9582 - val_accuracy: 0.7340 - 104s/epoch - 1s/step\n",
            "Epoch 16/20\n",
            "100/100 - 104s - loss: 0.0953 - accuracy: 0.9690 - val_loss: 1.0826 - val_accuracy: 0.7500 - 104s/epoch - 1s/step\n",
            "Epoch 17/20\n",
            "100/100 - 104s - loss: 0.0933 - accuracy: 0.9665 - val_loss: 1.1656 - val_accuracy: 0.7520 - 104s/epoch - 1s/step\n",
            "Epoch 18/20\n",
            "100/100 - 104s - loss: 0.0716 - accuracy: 0.9770 - val_loss: 1.8033 - val_accuracy: 0.7250 - 104s/epoch - 1s/step\n",
            "Epoch 19/20\n",
            "100/100 - 104s - loss: 0.0752 - accuracy: 0.9765 - val_loss: 1.9740 - val_accuracy: 0.7190 - 104s/epoch - 1s/step\n",
            "Epoch 20/20\n",
            "100/100 - 104s - loss: 0.1099 - accuracy: 0.9765 - val_loss: 1.1989 - val_accuracy: 0.7270 - 104s/epoch - 1s/step\n"
          ]
        }
      ]
    },
    {
      "cell_type": "code",
      "source": [
        "import matplotlib.pyplot as plt\n",
        "\n",
        "def plot_loss_acc(history):\n",
        "\n",
        "  acc = history.history['accuracy']\n",
        "  val_acc = history.history['val_accuracy']\n",
        "\n",
        "  loss = history.history['loss']\n",
        "  val_loss = history.history['val_loss']\n",
        "\n",
        "  epochs = range(len(acc))\n",
        "\n",
        "  \n",
        "\n",
        "  plt.plot(epochs, acc, 'r', 'Training Accuracy')\n",
        "  plt.plot(epochs, val_acc, 'b', 'Validation Accuracy')\n",
        "  plt.title('Training and Validation Accuracy')\n",
        "  plt.show()\n",
        "\n",
        "\n",
        "  plt.plot(epochs, loss, 'y', 'Training loss')\n",
        "  plt.plot(epochs, val_loss, 'g', 'Validation loss')\n",
        "  plt.title('Training and Validation Loss')\n",
        "  plt.show()\n",
        "\n",
        "\n",
        "\n"
      ],
      "metadata": {
        "id": "FyJk_1sRmDv0"
      },
      "execution_count": 14,
      "outputs": []
    },
    {
      "cell_type": "code",
      "source": [
        "plot_loss_acc(history)"
      ],
      "metadata": {
        "id": "Q6GGJIFMmt9O",
        "colab": {
          "base_uri": "https://localhost:8080/",
          "height": 565
        },
        "outputId": "39f7f299-362e-4648-efc4-bb2e33626558"
      },
      "execution_count": 15,
      "outputs": [
        {
          "output_type": "display_data",
          "data": {
            "text/plain": [
              "<Figure size 432x288 with 1 Axes>"
            ],
            "image/png": "[encoded data removed]"
          },
          "metadata": {
            "needs_background": "light"
          }
        },
        {
          "output_type": "display_data",
          "data": {
            "text/plain": [
              "<Figure size 432x288 with 1 Axes>"
            ],
            "image/png": "[encoded data removed]"
          },
          "metadata": {
            "needs_background": "light"
          }
        }
      ]
    },
    {
      "cell_type": "markdown",
      "source": [
        "**Data Augmentation**"
      ],
      "metadata": {
        "id": "TwyCKCeRtnBt"
      }
    },
    {
      "cell_type": "code",
      "source": [
        "train_datagen_aug = ImageDataGenerator(rescale = 1.0/255.0,\n",
        "                                   rotation_range = 40,\n",
        "                                   width_shift_range = 0.2,\n",
        "                                   height_shift_range = 0.2,\n",
        "                                   shear_range = 0.2,\n",
        "                                   zoom_range = 0.2,\n",
        "                                   horizontal_flip = True,\n",
        "                                   fill_mode = 'nearest')\n",
        "\n",
        "training_generator_aug = train_datagen_aug.flow_from_directory(directory = train_dir,\n",
        "                                                               target_size = (150,150),\n",
        "                                                               batch_size = 20,\n",
        "                                                               class_mode = 'binary')\n",
        "\n",
        "# no change in test or validation data/images\n",
        "\n",
        "validation_datagen = ImageDataGenerator(rescale = 1.0/255.0)\n",
        "\n",
        "\n",
        "validation_generator = validation_datagen.flow_from_directory(directory = validation_dir,\n",
        "                                                              target_size = (150,150),\n",
        "                                                              batch_size = 20,\n",
        "                                                              class_mode = 'binary'\n",
        "                                                              )"
      ],
      "metadata": {
        "id": "SiB_MVE3tlWp",
        "colab": {
          "base_uri": "https://localhost:8080/"
        },
        "outputId": "ae144001-82bc-4431-aff8-ed26a6d2dfb8"
      },
      "execution_count": 17,
      "outputs": [
        {
          "output_type": "stream",
          "name": "stdout",
          "text": [
            "Found 2000 images belonging to 2 classes.\n",
            "Found 1000 images belonging to 2 classes.\n"
          ]
        }
      ]
    },
    {
      "cell_type": "code",
      "source": [
        "model_aug = create_model()\n",
        "\n",
        "history_with_aug = model_aug.fit(training_generator_aug,\n",
        "                                 steps_per_epoch=100,\n",
        "                                 epochs = 20, \n",
        "                                 validation_data = validation_generator,\n",
        "                                 validation_steps = 50,\n",
        "                                 verbose = 2)"
      ],
      "metadata": {
        "id": "vmz-kBaewGXW",
        "colab": {
          "base_uri": "https://localhost:8080/"
        },
        "outputId": "be76c6a3-1e89-4401-9fd5-19bb581b8dad"
      },
      "execution_count": 19,
      "outputs": [
        {
          "output_type": "stream",
          "name": "stdout",
          "text": [
            "Epoch 1/20\n",
            "100/100 - 115s - loss: 0.7480 - accuracy: 0.5050 - val_loss: 0.6943 - val_accuracy: 0.5000 - 115s/epoch - 1s/step\n",
            "Epoch 2/20\n",
            "100/100 - 113s - loss: 0.6984 - accuracy: 0.5430 - val_loss: 0.8128 - val_accuracy: 0.5380 - 113s/epoch - 1s/step\n",
            "Epoch 3/20\n",
            "100/100 - 113s - loss: 0.6852 - accuracy: 0.5960 - val_loss: 0.6513 - val_accuracy: 0.6220 - 113s/epoch - 1s/step\n",
            "Epoch 4/20\n",
            "100/100 - 113s - loss: 0.6918 - accuracy: 0.6210 - val_loss: 0.6391 - val_accuracy: 0.5880 - 113s/epoch - 1s/step\n",
            "Epoch 5/20\n",
            "100/100 - 113s - loss: 0.6454 - accuracy: 0.6230 - val_loss: 0.6617 - val_accuracy: 0.6250 - 113s/epoch - 1s/step\n",
            "Epoch 6/20\n",
            "100/100 - 112s - loss: 0.6543 - accuracy: 0.6325 - val_loss: 0.6228 - val_accuracy: 0.6300 - 112s/epoch - 1s/step\n",
            "Epoch 7/20\n",
            "100/100 - 112s - loss: 0.6509 - accuracy: 0.6310 - val_loss: 0.6059 - val_accuracy: 0.6620 - 112s/epoch - 1s/step\n",
            "Epoch 8/20\n",
            "100/100 - 112s - loss: 0.6249 - accuracy: 0.6560 - val_loss: 0.6429 - val_accuracy: 0.6660 - 112s/epoch - 1s/step\n",
            "Epoch 9/20\n",
            "100/100 - 112s - loss: 0.6184 - accuracy: 0.6635 - val_loss: 0.6146 - val_accuracy: 0.6550 - 112s/epoch - 1s/step\n",
            "Epoch 10/20\n",
            "100/100 - 112s - loss: 0.6050 - accuracy: 0.6825 - val_loss: 0.6999 - val_accuracy: 0.5790 - 112s/epoch - 1s/step\n",
            "Epoch 11/20\n",
            "100/100 - 112s - loss: 0.6128 - accuracy: 0.6630 - val_loss: 0.6255 - val_accuracy: 0.6250 - 112s/epoch - 1s/step\n",
            "Epoch 12/20\n",
            "100/100 - 112s - loss: 0.6084 - accuracy: 0.6750 - val_loss: 0.6720 - val_accuracy: 0.6230 - 112s/epoch - 1s/step\n",
            "Epoch 13/20\n",
            "100/100 - 112s - loss: 0.5944 - accuracy: 0.6990 - val_loss: 1.5386 - val_accuracy: 0.5640 - 112s/epoch - 1s/step\n",
            "Epoch 14/20\n",
            "100/100 - 112s - loss: 0.5845 - accuracy: 0.7025 - val_loss: 0.5512 - val_accuracy: 0.6990 - 112s/epoch - 1s/step\n",
            "Epoch 15/20\n",
            "100/100 - 112s - loss: 0.5856 - accuracy: 0.7070 - val_loss: 0.5560 - val_accuracy: 0.7130 - 112s/epoch - 1s/step\n",
            "Epoch 16/20\n",
            "100/100 - 112s - loss: 0.5831 - accuracy: 0.7040 - val_loss: 0.5477 - val_accuracy: 0.7090 - 112s/epoch - 1s/step\n",
            "Epoch 17/20\n",
            "100/100 - 112s - loss: 0.5498 - accuracy: 0.7185 - val_loss: 0.5328 - val_accuracy: 0.7280 - 112s/epoch - 1s/step\n",
            "Epoch 18/20\n",
            "100/100 - 112s - loss: 0.5727 - accuracy: 0.7120 - val_loss: 0.5580 - val_accuracy: 0.7120 - 112s/epoch - 1s/step\n",
            "Epoch 19/20\n",
            "100/100 - 112s - loss: 0.5700 - accuracy: 0.7040 - val_loss: 0.5347 - val_accuracy: 0.7320 - 112s/epoch - 1s/step\n",
            "Epoch 20/20\n",
            "100/100 - 113s - loss: 0.5701 - accuracy: 0.7070 - val_loss: 0.4864 - val_accuracy: 0.7760 - 113s/epoch - 1s/step\n"
          ]
        }
      ]
    },
    {
      "cell_type": "code",
      "source": [
        "plot_loss_acc(history_with_aug)"
      ],
      "metadata": {
        "id": "kb-m-fQPxeWL",
        "colab": {
          "base_uri": "https://localhost:8080/",
          "height": 565
        },
        "outputId": "b515de39-707e-481a-e728-9d96da828611"
      },
      "execution_count": 20,
      "outputs": [
        {
          "output_type": "display_data",
          "data": {
            "text/plain": [
              "<Figure size 432x288 with 1 Axes>"
            ],
            "image/png": "[encoded data removed]"
          },
          "metadata": {
            "needs_background": "light"
          }
        },
        {
          "output_type": "display_data",
          "data": {
            "text/plain": [
              "<Figure size 432x288 with 1 Axes>"
            ],
            "image/png": "[encoded data removed]"
          },
          "metadata": {
            "needs_background": "light"
          }
        }
      ]
    },
    {
      "cell_type": "code",
      "source": [
        "# Conclusion- Image Augmentation does improve the model and avoids overfitting"
      ],
      "metadata": {
        "id": "lmLD49OJGo-h"
      },
      "execution_count": null,
      "outputs": []
    }
  ]
}